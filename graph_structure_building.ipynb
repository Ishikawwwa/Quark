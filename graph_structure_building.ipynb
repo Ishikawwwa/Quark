{
 "cells": [
  {
   "cell_type": "code",
   "execution_count": 2,
   "metadata": {},
   "outputs": [
    {
     "name": "stdout",
     "output_type": "stream",
     "text": [
      "1. Calculus Fundamentals\n",
      "2. Inequality Notation\n",
      "3. Rounding and Approximation\n",
      "4. Interval Arithmetic\n",
      "5. Limit Definition Review\n",
      "6. Squeeze Theorem Application\n",
      "7. Left and Right Hand Limits\n",
      "8. Infinite Limits Handling\n",
      "9. Limit Properties Review\n"
     ]
    }
   ],
   "source": [
    "import ollama\n",
    "response = ollama.chat(model='llama3.1', messages=[\n",
    "  {\n",
    "    'role': 'user',\n",
    "    'content': f\"Let's imagine that all the scientific domain knowledge is represented in terms of practical skills. All of these skills can be considered as a particular lesson, so a person has to complete all the subskill lessons to learn the skill they want to. In this strict tree skill structure what would be subskills of {skill_name} skill? Respond only with the names of the sub-skills as a list, nothing else.\",\n",
    "  },\n",
    "])\n",
    "print(response['message']['content'])\n"
   ]
  }
 ],
 "metadata": {
  "kernelspec": {
   "display_name": "Python 3",
   "language": "python",
   "name": "python3"
  },
  "language_info": {
   "codemirror_mode": {
    "name": "ipython",
    "version": 3
   },
   "file_extension": ".py",
   "mimetype": "text/x-python",
   "name": "python",
   "nbconvert_exporter": "python",
   "pygments_lexer": "ipython3",
   "version": "3.10.11"
  }
 },
 "nbformat": 4,
 "nbformat_minor": 2
}
